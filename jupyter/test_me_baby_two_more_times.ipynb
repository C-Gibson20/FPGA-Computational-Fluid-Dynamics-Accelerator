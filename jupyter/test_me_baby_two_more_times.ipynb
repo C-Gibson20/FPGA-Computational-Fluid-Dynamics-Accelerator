{
 "cells": [
  {
   "cell_type": "code",
   "execution_count": 1,
   "id": "f5d6f843",
   "metadata": {},
   "outputs": [
    {
     "data": {
      "application/javascript": [
       "\n",
       "try {\n",
       "require(['notebook/js/codecell'], function(codecell) {\n",
       "  codecell.CodeCell.options_default.highlight_modes[\n",
       "      'magic_text/x-csrc'] = {'reg':[/^%%microblaze/]};\n",
       "  Jupyter.notebook.events.one('kernel_ready.Kernel', function(){\n",
       "      Jupyter.notebook.get_cells().map(function(cell){\n",
       "          if (cell.cell_type == 'code'){ cell.auto_highlight(); } }) ;\n",
       "  });\n",
       "});\n",
       "} catch (e) {};\n"
      ]
     },
     "metadata": {},
     "output_type": "display_data"
    },
    {
     "data": {
      "application/javascript": [
       "\n",
       "try {\n",
       "require(['notebook/js/codecell'], function(codecell) {\n",
       "  codecell.CodeCell.options_default.highlight_modes[\n",
       "      'magic_text/x-csrc'] = {'reg':[/^%%pybind11/]};\n",
       "  Jupyter.notebook.events.one('kernel_ready.Kernel', function(){\n",
       "      Jupyter.notebook.get_cells().map(function(cell){\n",
       "          if (cell.cell_type == 'code'){ cell.auto_highlight(); } }) ;\n",
       "  });\n",
       "});\n",
       "} catch (e) {};\n"
      ]
     },
     "metadata": {},
     "output_type": "display_data"
    }
   ],
   "source": [
    "from pynq import Overlay\n",
    "import time\n",
    "import matplotlib.pyplot as plt\n",
    "import numpy as np\n",
    "\n",
    "ol = Overlay(\"/home/xilinx/please_work/working.bit\")"
   ]
  },
  {
   "cell_type": "code",
   "execution_count": 2,
   "id": "9b263a02",
   "metadata": {},
   "outputs": [],
   "source": [
    "oux = ol.u_x.channel1\n",
    "ouy = ol.u_y.channel1\n",
    "orho = ol.rho.channel1\n",
    "istep = ol.step.channel1\n",
    "ireset_lbm = ol.reset_lbm.channel1\n",
    "istart_transmit = ol.start_transmit.channel1"
   ]
  },
  {
   "cell_type": "code",
   "execution_count": 21,
   "id": "bb60c3fe",
   "metadata": {},
   "outputs": [
    {
     "name": "stdout",
     "output_type": "stream",
     "text": [
      "reset state: 0\n",
      "reset state: 1\n",
      "transmit state: 0\n"
     ]
    }
   ],
   "source": [
    "# reset all\n",
    "ireset_lbm.write(0,1) #reset\n",
    "print(f\"reset state: {ireset_lbm.read()}\") # check reset\n",
    "time.sleep(1) # wait\n",
    "ireset_lbm.write(1,1) #reset\n",
    "print(f\"reset state: {ireset_lbm.read()}\") # check non-reset\n",
    "\n",
    "# check start transmit\n",
    "istart_transmit.write(0,-1)\n",
    "print(f\"transmit state: {istart_transmit.read()}\")"
   ]
  },
  {
   "cell_type": "code",
   "execution_count": 22,
   "id": "b55682da",
   "metadata": {
    "scrolled": true
   },
   "outputs": [],
   "source": [
    "for step in range(0,1000,100):\n",
    "    istep.write(step,0xFFFF)\n",
    "#     print(f\"current step: {istep.read()}\")\n",
    "    time.sleep(0.1) # give it way more time than it needs\n",
    "    uxs = []\n",
    "    rhos = []\n",
    "    istart_transmit.write(0x8000,0x8000) # raise query state flag\n",
    "    for pixel in range(2500):\n",
    "        istart_transmit.write(pixel,0x0FFF) # get pixel\n",
    "#             print(f\"transmit state: {istart_transmit.read()}\")\n",
    "        rhos.append(float(orho.read())/(2**13))\n",
    "#             time.sleep(0.0005) # give it time\n",
    "    plt.imsave(f\"imgs/step{step}.png\", np.reshape(rhos,(50,50)))"
   ]
  },
  {
   "cell_type": "code",
   "execution_count": 23,
   "id": "75cb94fb",
   "metadata": {},
   "outputs": [
    {
     "data": {
      "text/plain": [
       "'/home/xilinx/jupyter_notebooks/img_zip.zip'"
      ]
     },
     "execution_count": 23,
     "metadata": {},
     "output_type": "execute_result"
    }
   ],
   "source": [
    "import shutil\n",
    "shutil.make_archive(\"img_zip\", 'zip', \"imgs\")"
   ]
  },
  {
   "cell_type": "code",
   "execution_count": null,
   "id": "ff5353dd",
   "metadata": {},
   "outputs": [],
   "source": []
  }
 ],
 "metadata": {
  "kernelspec": {
   "display_name": "Python 3 (ipykernel)",
   "language": "python",
   "name": "python3"
  },
  "language_info": {
   "codemirror_mode": {
    "name": "ipython",
    "version": 3
   },
   "file_extension": ".py",
   "mimetype": "text/x-python",
   "name": "python",
   "nbconvert_exporter": "python",
   "pygments_lexer": "ipython3",
   "version": "3.10.4"
  }
 },
 "nbformat": 4,
 "nbformat_minor": 5
}
